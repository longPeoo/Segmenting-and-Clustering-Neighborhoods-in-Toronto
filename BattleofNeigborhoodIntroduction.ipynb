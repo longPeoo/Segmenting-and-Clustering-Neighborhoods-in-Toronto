{
 "cells": [
  {
   "cell_type": "markdown",
   "metadata": {},
   "source": [
    "**Introduction**\n",
    "\n",
    "If you want to open a restaurant, here the different restaurant distribution in New York City and Toronto. Help you to decide where to place the restaurant"
   ]
  },
  {
   "cell_type": "markdown",
   "metadata": {},
   "source": [
    "**Business Problem**\n",
    "\n",
    "To learn the specifics of the restaurant. Any details regarding the positions in New York City and Toronto would need to be included. We must make confident that there will be ample customers in the area where the restaurant joint is opened and also that there are not a huge number of restaurant joints in the place. For this reason, to make sure that the restaurant will be successful in the region, we need to examine multiple situations in the area. We would aim to prevent other Joint restaurants in the region and we are aiming for a place where there are: \n",
    "\n",
    "*Different information about district schools* \n",
    "\n",
    "*Details about restaurants*\n",
    "\n",
    "For this project we are mainly concerned with the area around two cities to setup a restaurant Joint to ensure maximum profitability for new business."
   ]
  },
  {
   "cell_type": "markdown",
   "metadata": {},
   "source": [
    "**Data**\n",
    "\n",
    "To choose the restaurant, we will need to access following data:\n",
    "\n",
    "Neighbourhoods in New York And Toronto:\n",
    "- https://en.wikipedia.org/wiki/Neighborhoods_in_New_York_City\n",
    "- https://en.wikipedia.org/wiki/List_of_neighbourhoods_in_Toronto\n",
    "\n",
    "From the table above, we are going to extra the data to build our analysis.\n",
    "\n",
    "The coordinates (latitude, longitude) to these Localities of two cities from FourSquare APIs. And we are going to work with this type of maps to identify our venues locations:\n",
    "\n",
    "From Foursquare we will need following venues data:\n",
    "\n",
    "*The school information*\n",
    "\n",
    "*Different restaurant information We will then leverage the data in order to determine which locality is the most appropriate in order to locate the restaurant joint.*"
   ]
  },
  {
   "cell_type": "code",
   "execution_count": null,
   "metadata": {},
   "outputs": [],
   "source": []
  }
 ],
 "metadata": {
  "kernelspec": {
   "display_name": "Python",
   "language": "python",
   "name": "conda-env-python-py"
  },
  "language_info": {
   "codemirror_mode": {
    "name": "ipython",
    "version": 3
   },
   "file_extension": ".py",
   "mimetype": "text/x-python",
   "name": "python",
   "nbconvert_exporter": "python",
   "pygments_lexer": "ipython3",
   "version": "3.6.12"
  }
 },
 "nbformat": 4,
 "nbformat_minor": 4
}
