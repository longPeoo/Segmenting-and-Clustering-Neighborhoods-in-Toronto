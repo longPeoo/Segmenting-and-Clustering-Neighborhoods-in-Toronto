{
 "cells": [
  {
   "cell_type": "markdown",
   "metadata": {},
   "source": [
    "1. Introduction/Business Problem\n",
    "\n",
    "***The goal of this research is to help individuals preparing to open a new restaurant in Toronto pick the best location by presenting information on each neighborhood's income and population as well as the competitors already present in the same regions***"
   ]
  },
  {
   "cell_type": "markdown",
   "metadata": {},
   "source": [
    "2. Data\n",
    "\n",
    "***I would merge the 2016 Toronto Census containing Residents, Average Community Income with Foursquare API to gather competitors in the same neighbourhoods to provide the stakeholders with the necessary details***\n",
    "\n",
    "***Census data for Toronto is freely accessible on this website:  https://www.toronto.ca/city-government/data-research-maps/open-data/open-data-catalogue/#8c732154-5012-9afe-d0cd-ba3ffc813d5a***\n"
   ]
  }
 ],
 "metadata": {
  "kernelspec": {
   "display_name": "Python 3",
   "language": "python",
   "name": "python3"
  },
  "language_info": {
   "codemirror_mode": {
    "name": "ipython",
    "version": 3
   },
   "file_extension": ".py",
   "mimetype": "text/x-python",
   "name": "python",
   "nbconvert_exporter": "python",
   "pygments_lexer": "ipython3",
   "version": "3.8.5"
  }
 },
 "nbformat": 4,
 "nbformat_minor": 4
}
